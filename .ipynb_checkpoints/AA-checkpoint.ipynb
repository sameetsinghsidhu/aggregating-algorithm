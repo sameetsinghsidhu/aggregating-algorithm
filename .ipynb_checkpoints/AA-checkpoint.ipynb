{
 "cells": [
  {
   "cell_type": "markdown",
   "metadata": {},
   "source": [
    "# Aggregrating algorithm"
   ]
  },
  {
   "cell_type": "markdown",
   "metadata": {},
   "source": [
    "### Imports"
   ]
  },
  {
   "cell_type": "code",
   "execution_count": 3,
   "metadata": {},
   "outputs": [],
   "source": [
    "import numpy as np\n",
    "import math\n",
    "import matplotlib.pyplot as plt\n",
    "%matplotlib inline"
   ]
  },
  {
   "cell_type": "markdown",
   "metadata": {},
   "source": [
    "### Loading and preprocessing the data"
   ]
  },
  {
   "cell_type": "code",
   "execution_count": 4,
   "metadata": {},
   "outputs": [],
   "source": [
    "def get_data(filename):\n",
    "    data = np.genfromtxt(filename)\n",
    "    data = np.delete(data, [0, 1, 2, 4, 6, 8, 10], axis = 1)\n",
    "    return data"
   ]
  },
  {
   "cell_type": "code",
   "execution_count": 5,
   "metadata": {},
   "outputs": [
    {
     "data": {
      "text/plain": [
       "array([[0.51469399, 0.52      , 0.49333333, 0.51786639],\n",
       "       [0.795053  , 0.77067669, 0.78761062, 0.78570195],\n",
       "       [0.6626506 , 0.67058823, 0.62025317, 0.66757804],\n",
       "       ...,\n",
       "       [0.76190476, 0.75      , 0.74020619, 0.77601411],\n",
       "       [0.6203474 , 0.63414634, 0.63092269, 0.61357074],\n",
       "       [0.79086116, 0.80431177, 0.77981651, 0.82089552]])"
      ]
     },
     "execution_count": 5,
     "metadata": {},
     "output_type": "execute_result"
    }
   ],
   "source": [
    "experts_predictions = get_data(\"tennis1.txt\")\n",
    "experts_predictions"
   ]
  },
  {
   "cell_type": "markdown",
   "metadata": {},
   "source": [
    "### Algorithm"
   ]
  },
  {
   "cell_type": "code",
   "execution_count": 14,
   "metadata": {},
   "outputs": [],
   "source": [
    "def AA_Brier(experts_predictions, outcomes):\n",
    "    T, N = experts_predictions.shape\n",
    "    weights = np.tile(np.random.randn(1, 1)[0], (1, N))\n",
    "    \n",
    "    # Helper functions\n",
    "    def generalised_prediction(p_t, gamma_t, substitute):\n",
    "        exp = np.fromiter(map(math.exp, -2 * substitute(gamma_t)), dtype = np.float)\n",
    "        return -0.5 * math.log(np.dot(p_t, exp))\n",
    "    \n",
    "    \n",
    "    predict = lambda p_t, gamma_t: 0.5 - ((generalised_prediction(p_t, gamma_t, lambda gamma: (1 - gamma)**2) \n",
    "                                          - generalised_prediction(p_t, gamma_t, lambda gamma: gamma**2)) / 2)\n",
    "    \n",
    "    loss = lambda prediction: (1 - prediction)**2\n",
    "    update_weights = lambda weights, loss: weights * np.fromiter(map(math.exp, -2 * loss), dtype = np.float)\n",
    "    \n",
    "    predictions = []\n",
    "    experts_losses = []\n",
    "    \n",
    "    # Putting them together\n",
    "    for experts_prediction in experts_predictions:\n",
    "        weights = weights/sum(weights)\n",
    "        experts_loss = np.fromiter(map(loss, experts_prediction), dtype = np.float)\n",
    "        \n",
    "        p = predict(weights, experts_prediction)\n",
    "        predictions.append(p)\n",
    "        experts_losses.append(experts_loss)\n",
    "        \n",
    "        weights = update_weights(weights, experts_loss)\n",
    "        \n",
    "    return predictions, np.array(experts_losses)"
   ]
  },
  {
   "cell_type": "code",
   "execution_count": 15,
   "metadata": {},
   "outputs": [],
   "source": [
    "np.random.seed(0) # for reproducibility\n",
    "predictions, experts_losses = AA_Brier(experts_predictions, 0)\n",
    "\n",
    "#print(experts_losses - np.reshape([100, 200, 300, 400, 500], (5, 1)))"
   ]
  },
  {
   "cell_type": "markdown",
   "metadata": {},
   "source": [
    "### Total loss of the AA"
   ]
  },
  {
   "cell_type": "code",
   "execution_count": 16,
   "metadata": {},
   "outputs": [
    {
     "name": "stdout",
     "output_type": "stream",
     "text": [
      "1971.781849552859\n"
     ]
    }
   ],
   "source": [
    "loss = lambda prediction: (1 - prediction)**2\n",
    "aa_losses = np.fromiter(map(loss, predictions), dtype = np.float)\n",
    "total_loss = sum(aa_losses)\n",
    "print(total_loss)"
   ]
  },
  {
   "cell_type": "markdown",
   "metadata": {},
   "source": [
    "### AA and Experts loss over time"
   ]
  },
  {
   "cell_type": "code",
   "execution_count": 22,
   "metadata": {},
   "outputs": [
    {
     "data": {
      "image/png": "[encoded data removed]",
      "text/plain": [
       "<Figure size 432x288 with 1 Axes>"
      ]
     },
     "metadata": {
      "needs_background": "light"
     },
     "output_type": "display_data"
    }
   ],
   "source": [
    "plt.plot(np.cumsum(aa_losses))\n",
    "plt.plot(np.cumsum(experts_losses[:, 1]))\n",
    "plt.plot(np.cumsum(experts_losses[:, 2]))\n",
    "plt.plot(np.cumsum(experts_losses[:, 3]))\n",
    "plt.show()"
   ]
  },
  {
   "cell_type": "code",
   "execution_count": null,
   "metadata": {},
   "outputs": [],
   "source": []
  }
 ],
 "metadata": {
  "kernelspec": {
   "display_name": "Python 3",
   "language": "python",
   "name": "python3"
  },
  "language_info": {
   "codemirror_mode": {
    "name": "ipython",
    "version": 3
   },
   "file_extension": ".py",
   "mimetype": "text/x-python",
   "name": "python",
   "nbconvert_exporter": "python",
   "pygments_lexer": "ipython3",
   "version": "3.7.3"
  }
 },
 "nbformat": 4,
 "nbformat_minor": 2
}
